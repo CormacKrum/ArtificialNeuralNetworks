{
 "cells": [
  {
   "cell_type": "markdown",
   "metadata": {},
   "source": [
    "# <center>Basic Concepts</center>\n",
    "\n",
    "<center><img src=\"colorednn.svg\"/></center>\n",
    "<p style='float:right;'>Credits: By Glosser.ca [CC BY-SA 3.0], via Wikimedia Commons</p>"
   ]
  },
  {
   "cell_type": "markdown",
   "metadata": {},
   "source": [
    "* history starting in 1940s (some argue for even earlier)\n",
    "* not much progress because of the lack of: computational power and large datasets\n",
    "* ANNs (composed of artificial neurons) seek problem solving similar to the human brain\n",
    "* used for tasks like: speech recognition, computer vision, recommender systems, medical diagnosis, etc.\n",
    "* require numerical input data"
   ]
  },
  {
   "cell_type": "code",
   "execution_count": null,
   "metadata": {},
   "outputs": [],
   "source": []
  }
 ],
 "metadata": {
  "kernelspec": {
   "display_name": "Python 3",
   "language": "python",
   "name": "python3"
  },
  "language_info": {
   "codemirror_mode": {
    "name": "ipython",
    "version": 3
   },
   "file_extension": ".py",
   "mimetype": "text/x-python",
   "name": "python",
   "nbconvert_exporter": "python",
   "pygments_lexer": "ipython3",
   "version": "3.8.3"
  }
 },
 "nbformat": 4,
 "nbformat_minor": 4
}
