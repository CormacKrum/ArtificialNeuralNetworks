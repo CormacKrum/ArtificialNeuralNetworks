{
 "cells": [
  {
   "cell_type": "markdown",
   "metadata": {},
   "source": [
    "# Optical Character Recognition\n",
    "* recognizing characters in images"
   ]
  },
  {
   "cell_type": "code",
   "execution_count": 1,
   "metadata": {},
   "outputs": [],
   "source": [
    "import numpy as np\n",
    "import matplotlib.pyplot as plt\n",
    "import neurolab as nl\n",
    "import os\n",
    "import sys\n",
    "import cv2"
   ]
  },
  {
   "cell_type": "code",
   "execution_count": 2,
   "metadata": {},
   "outputs": [],
   "source": [
    "num_data = 50\n",
    "orig_label = 'omandig'\n",
    "num_origin_labels = len(orig_label)\n",
    "\n",
    "num_train = int(0.9*num_data)\n",
    "num_test = num_data-num_train"
   ]
  },
  {
   "cell_type": "code",
   "execution_count": 3,
   "metadata": {},
   "outputs": [],
   "source": [
    "img_resize_factor = 12\n",
    "start,end = 6,-1\n",
    "height,width = 16,8"
   ]
  },
  {
   "cell_type": "code",
   "execution_count": 4,
   "metadata": {},
   "outputs": [],
   "source": [
    "data = []\n",
    "labels = []\n",
    "\n",
    "with open('letter.data','r') as f:\n",
    "    for line in f.readlines():\n",
    "        list_vals = line.split('\\t')\n",
    "        if list_vals[1] not in orig_label:\n",
    "            continue\n",
    "        label = np.zeros((num_origin_labels,1))\n",
    "        label[orig_label.index(list_vals[1])]=1\n",
    "        labels.append(label)\n",
    "        \n",
    "        cur_char = np.array([float(x) for x in list_vals[start:end]])\n",
    "        data.append(cur_char)\n",
    "        \n",
    "        if len(data)>=num_data:\n",
    "            break"
   ]
  },
  {
   "cell_type": "code",
   "execution_count": 5,
   "metadata": {},
   "outputs": [
    {
     "name": "stdout",
     "output_type": "stream",
     "text": [
      "Epoch: 1000; Error: 11.959804828819736;\n",
      "Epoch: 2000; Error: 0.25766671976243216;\n",
      "Epoch: 3000; Error: 0.25357562374465364;\n",
      "Epoch: 4000; Error: 0.24974821855817922;\n",
      "Epoch: 5000; Error: 0.23604043011850073;\n",
      "Epoch: 6000; Error: 0.2237639633283898;\n",
      "Epoch: 7000; Error: 0.4428083514161627;\n",
      "Epoch: 8000; Error: 0.20491945364153613;\n",
      "Epoch: 9000; Error: 0.20080807143485724;\n",
      "Epoch: 10000; Error: 0.19225090454162697;\n",
      "The maximum number of train epochs is reached\n"
     ]
    }
   ],
   "source": [
    "data = np.asarray(data)\n",
    "labels = np.array(labels).reshape(num_data,num_origin_labels)\n",
    "\n",
    "num_dims = len(data[0])\n",
    "\n",
    "nn = nl.net.newff([[0,1] for _ in range(len(data[0]))],[128,16,num_origin_labels])\n",
    "nn.trainf = nl.train.train_gd\n",
    "\n",
    "error = nn.train(data[:num_train,:],labels[:num_train,:],epochs =10000,show=1000,goal=0.01)"
   ]
  },
  {
   "cell_type": "code",
   "execution_count": 7,
   "metadata": {},
   "outputs": [
    {
     "name": "stdout",
     "output_type": "stream",
     "text": [
      "\n",
      "Original:  o\n",
      "Predicted:  o\n",
      "\n",
      "Original:  m\n",
      "Predicted:  n\n",
      "\n",
      "Original:  m\n",
      "Predicted:  n\n",
      "\n",
      "Original:  a\n",
      "Predicted:  o\n",
      "\n",
      "Original:  n\n",
      "Predicted:  n\n"
     ]
    }
   ],
   "source": [
    "pred_test = nn.sim(data[num_train:,:])\n",
    "for i in range(num_test):\n",
    "    print('\\nOriginal: ',orig_label[np.argmax(labels[i])])\n",
    "    print('Predicted: ',orig_label[np.argmax(pred_test[i])])"
   ]
  },
  {
   "cell_type": "code",
   "execution_count": null,
   "metadata": {},
   "outputs": [],
   "source": []
  }
 ],
 "metadata": {
  "kernelspec": {
   "display_name": "Python 3",
   "language": "python",
   "name": "python3"
  },
  "language_info": {
   "codemirror_mode": {
    "name": "ipython",
    "version": 3
   },
   "file_extension": ".py",
   "mimetype": "text/x-python",
   "name": "python",
   "nbconvert_exporter": "python",
   "pygments_lexer": "ipython3",
   "version": "3.8.3"
  }
 },
 "nbformat": 4,
 "nbformat_minor": 4
}
